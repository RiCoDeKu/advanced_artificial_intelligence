{
 "cells": [
  {
   "cell_type": "markdown",
   "id": "dd7a44ec",
   "metadata": {},
   "source": [
    "### DataLoader確認"
   ]
  },
  {
   "cell_type": "code",
   "execution_count": 1,
   "id": "9163e34e",
   "metadata": {},
   "outputs": [
    {
     "name": "stdout",
     "output_type": "stream",
     "text": [
      "Training dataloader: batch size 100, number of batches 594\n",
      "Validation dataloader: batch size 100, number of batches 6\n"
     ]
    }
   ],
   "source": [
    "from dataloader import MyDataLoader\n",
    "\n",
    "data_loader = MyDataLoader()\n",
    "train_dataloader = data_loader.get_train_dataloader()\n",
    "valid_dataloader = data_loader.get_valid_dataloader()\n",
    "\n",
    "print(f\"Training dataloader: batch size {train_dataloader.batch_size}, \"\n",
    "        f\"number of batches {len(train_dataloader)}\")\n",
    "print(f\"Validation dataloader: batch size {valid_dataloader.batch_size}, \"\n",
    "        f\"number of batches {len(valid_dataloader)}\")"
   ]
  },
  {
   "cell_type": "code",
   "execution_count": 2,
   "id": "7d90be3e",
   "metadata": {},
   "outputs": [
    {
     "name": "stdout",
     "output_type": "stream",
     "text": [
      "Dataset: torch.Size([100, 1, 28, 28])\n"
     ]
    }
   ],
   "source": [
    "for dataset in train_dataloader:\n",
    "    print(f\"Dataset: {dataset.shape}\")\n",
    "    break"
   ]
  },
  {
   "cell_type": "code",
   "execution_count": null,
   "id": "9ccb78f3",
   "metadata": {},
   "outputs": [],
   "source": []
  }
 ],
 "metadata": {
  "kernelspec": {
   "display_name": ".venv",
   "language": "python",
   "name": "python3"
  },
  "language_info": {
   "codemirror_mode": {
    "name": "ipython",
    "version": 3
   },
   "file_extension": ".py",
   "mimetype": "text/x-python",
   "name": "python",
   "nbconvert_exporter": "python",
   "pygments_lexer": "ipython3",
   "version": "3.10.17"
  }
 },
 "nbformat": 4,
 "nbformat_minor": 5
}
